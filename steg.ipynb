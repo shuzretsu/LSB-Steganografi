{
 "cells": [
  {
   "cell_type": "code",
   "outputs": [],
   "source": [
    "#LSB-Steganografi\n",
    "import numpy as np\n",
    "from PIL import Image"
   ],
   "metadata": {
    "collapsed": false,
    "ExecuteTime": {
     "end_time": "2024-04-23T14:08:39.932240Z",
     "start_time": "2024-04-23T14:08:39.916030Z"
    }
   },
   "id": "b29363845962b4d0",
   "execution_count": 44
  },
  {
   "cell_type": "code",
   "outputs": [],
   "source": [
    "def tambah_gambar(image_path):\n",
    "    return np.array(Image.open(image_path))"
   ],
   "metadata": {
    "collapsed": false,
    "ExecuteTime": {
     "end_time": "2024-04-23T14:08:41.138660Z",
     "start_time": "2024-04-23T14:08:41.135373Z"
    }
   },
   "id": "de5011030de25b25",
   "execution_count": 45
  },
  {
   "cell_type": "code",
   "outputs": [],
   "source": [
    "def simpan(image_array, output_path):\n",
    "    Image.fromarray(image_array.astype(np.uint8)).save(output_path)\n"
   ],
   "metadata": {
    "collapsed": false,
    "ExecuteTime": {
     "end_time": "2024-04-23T14:08:42.004359Z",
     "start_time": "2024-04-23T14:08:41.999853Z"
    }
   },
   "id": "cf23f8d10aaceb70",
   "execution_count": 46
  },
  {
   "cell_type": "code",
   "outputs": [],
   "source": [
    "def teks_binary(text):\n",
    "    pesan_biner = ''.join(format(ord(char), '08b') for char in text)\n",
    "    return pesan_biner"
   ],
   "metadata": {
    "collapsed": false,
    "ExecuteTime": {
     "end_time": "2024-04-23T14:08:42.528954Z",
     "start_time": "2024-04-23T14:08:42.524804Z"
    }
   },
   "id": "af022a2cfc8335e8",
   "execution_count": 47
  },
  {
   "cell_type": "code",
   "outputs": [],
   "source": [
    "def pesan_tersembunyi(im, pesan_biner):\n",
    "    index = 0\n",
    "    for row in range(im.shape[0]):\n",
    "        for col in range(im.shape[1]):\n",
    "            for channel in range(im.shape[2]):\n",
    "                if index < len(pesan_biner):\n",
    "                    # im [row, col, channel] adalah agian untuk mengubah bit terkecil dari nilai piksel\n",
    "                    im[row, col, channel] = im[row, col, channel] & ~1 | int(pesan_biner[index])\n",
    "                    index += 1\n",
    "                else:\n",
    "                    return im"
   ],
   "metadata": {
    "collapsed": false,
    "ExecuteTime": {
     "end_time": "2024-04-23T14:08:43.092466Z",
     "start_time": "2024-04-23T14:08:43.085885Z"
    }
   },
   "id": "96b1584e412bd4c9",
   "execution_count": 48
  },
  {
   "cell_type": "code",
   "outputs": [],
   "source": [
    "def ekstrak_pesan(pesan_tersembunyi):\n",
    "    pesan_biner = \"\"\n",
    "    index = 0\n",
    "    message_length = len(pesan_tersembunyi) // 8  # perkiraan panjang pesan berdasarkan ukuran gambar\n",
    "    while index < message_length:  # Limit ekstraksi dari perkiraan panjang pesan\n",
    "        for row in range(pesan_tersembunyi.shape[0]):\n",
    "            for col in range(pesan_tersembunyi.shape[1]):\n",
    "                for channel in range(pesan_tersembunyi.shape[2]):\n",
    "                    if index < message_length:\n",
    "                        # Ekstrak bit paling tidak signifikan dari setiap piksel\n",
    "                        pesan_biner += str(pesan_tersembunyi[row, col, channel] & 1)\n",
    "                        index += 1\n",
    "                    else:\n",
    "                        return pesan_biner\n",
    "    return pesan_biner"
   ],
   "metadata": {
    "collapsed": false,
    "ExecuteTime": {
     "end_time": "2024-04-23T14:08:44.380970Z",
     "start_time": "2024-04-23T14:08:44.375747Z"
    }
   },
   "id": "b1d134593c5893a8",
   "execution_count": 49
  },
  {
   "cell_type": "code",
   "outputs": [],
   "source": [
    "im = tambah_gambar(\"\\\\img\\\\stego.png\")"
   ],
   "metadata": {
    "collapsed": false,
    "ExecuteTime": {
     "end_time": "2024-04-23T14:08:46.406277Z",
     "start_time": "2024-04-23T14:08:46.367243Z"
    }
   },
   "id": "361feebdb4d34ea6",
   "execution_count": 50
  },
  {
   "cell_type": "code",
   "outputs": [],
   "source": [
    "# pesan teks\n",
    "pesan_teks = \"PESAN RAHASIA\""
   ],
   "metadata": {
    "collapsed": false,
    "ExecuteTime": {
     "end_time": "2024-04-23T14:08:47.301289Z",
     "start_time": "2024-04-23T14:08:47.295809Z"
    }
   },
   "id": "e1a55df1887fdd8f",
   "execution_count": 51
  },
  {
   "cell_type": "code",
   "outputs": [],
   "source": [
    "# Convert teks ke binary\n",
    "pesan_biner = teks_binary(pesan_teks)"
   ],
   "metadata": {
    "collapsed": false,
    "ExecuteTime": {
     "end_time": "2024-04-23T14:08:48.449856Z",
     "start_time": "2024-04-23T14:08:48.446385Z"
    }
   },
   "id": "eb037188848a3335",
   "execution_count": 52
  },
  {
   "cell_type": "code",
   "outputs": [
    {
     "name": "stdout",
     "output_type": "stream",
     "text": [
      "tersimpan\n"
     ]
    }
   ],
   "source": [
    "# menyembunyikan pesan dalam gambar\n",
    "sembunyikan_pesan = pesan_tersembunyi(im.copy(), pesan_biner)\n",
    "simpan(sembunyikan_pesan, \"\\\\img\\\\stego2.png\")\n",
    "print(\"tersimpan\")"
   ],
   "metadata": {
    "collapsed": false,
    "ExecuteTime": {
     "end_time": "2024-04-23T14:08:49.815353Z",
     "start_time": "2024-04-23T14:08:49.131462Z"
    }
   },
   "id": "e23aa2c70390fd7a",
   "execution_count": 53
  },
  {
   "cell_type": "code",
   "outputs": [],
   "source": [
    "# ekstraksi pesan\n",
    "ex_pesan = ekstrak_pesan(sembunyikan_pesan)\n",
    "def binary_to_text(pesan_biner):\n",
    "    text = \"\"\n",
    "    for i in range(0, len(pesan_biner), 8):\n",
    "        byte = pesan_biner[i:i + 8]\n",
    "        text += chr(int(byte, 2))\n",
    "    return text"
   ],
   "metadata": {
    "collapsed": false,
    "ExecuteTime": {
     "end_time": "2024-04-23T14:08:51.522929Z",
     "start_time": "2024-04-23T14:08:51.517642Z"
    }
   },
   "id": "7d49d4caf97a36de",
   "execution_count": 54
  },
  {
   "cell_type": "code",
   "outputs": [
    {
     "name": "stdout",
     "output_type": "stream",
     "text": [
      "pesan tersembunyi: PESAN RAHASIA33Ýn\n"
     ]
    }
   ],
   "source": [
    "# konversi biner ke teks\n",
    "pesan_tersembunyi = binary_to_text(ex_pesan)\n",
    "print(\"pesan tersembunyi:\", pesan_tersembunyi)"
   ],
   "metadata": {
    "collapsed": false,
    "ExecuteTime": {
     "end_time": "2024-04-23T14:08:52.333559Z",
     "start_time": "2024-04-23T14:08:52.328546Z"
    }
   },
   "id": "986e26260e5b47d6",
   "execution_count": 55
  }
 ],
 "metadata": {
  "kernelspec": {
   "display_name": "Python 3",
   "language": "python",
   "name": "python3"
  },
  "language_info": {
   "codemirror_mode": {
    "name": "ipython",
    "version": 2
   },
   "file_extension": ".py",
   "mimetype": "text/x-python",
   "name": "python",
   "nbconvert_exporter": "python",
   "pygments_lexer": "ipython2",
   "version": "2.7.6"
  }
 },
 "nbformat": 4,
 "nbformat_minor": 5
}
